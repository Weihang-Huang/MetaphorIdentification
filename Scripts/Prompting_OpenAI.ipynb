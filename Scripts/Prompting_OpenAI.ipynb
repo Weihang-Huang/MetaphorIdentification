{
 "cells": [
  {
   "cell_type": "markdown",
   "id": "30d1dac5",
   "metadata": {},
   "source": [
    "# Metaphor Identification via Prompting with OpenAI Model\n",
    "\n",
    "In this notebook, I will show the workflow of metaphor identification via prompting with OpenAI models.\n",
    "\n",
    "Let's start with the dependencies. To run this notebook, you need the following packages: openai, pandas.\n",
    "\n",
    "Run the following script to install these packages."
   ]
  },
  {
   "cell_type": "code",
   "execution_count": null,
   "id": "8f296c83",
   "metadata": {},
   "outputs": [],
   "source": [
    "!pip install openai pandas"
   ]
  },
  {
   "cell_type": "markdown",
   "id": "5d0597d3",
   "metadata": {},
   "source": [
    "Import packages."
   ]
  },
  {
   "cell_type": "code",
   "execution_count": null,
   "id": "8d04b5ff",
   "metadata": {},
   "outputs": [],
   "source": [
    "import pandas as pd\n",
    "from openai import OpenAI\n",
    "import copy"
   ]
  },
  {
   "cell_type": "markdown",
   "id": "63393050",
   "metadata": {},
   "source": [
    "You will also need to apply for an OpenAI api key to use models from OpenAI. \n",
    "\n",
    "After successful application, you'll need to put your API key here:"
   ]
  },
  {
   "cell_type": "code",
   "execution_count": null,
   "id": "ee0c12ef",
   "metadata": {},
   "outputs": [],
   "source": [
    "my_api_key=\"INSERT YOUR KEY HERE\""
   ]
  },
  {
   "cell_type": "markdown",
   "id": "d8e4abac",
   "metadata": {},
   "source": [
    "With API key, you can connect to the openai server via the following script:"
   ]
  },
  {
   "cell_type": "code",
   "execution_count": null,
   "id": "1ec84851",
   "metadata": {},
   "outputs": [],
   "source": [
    "client=OpenAI(api_key=my_api_key)"
   ]
  },
  {
   "cell_type": "markdown",
   "id": "c845f66d",
   "metadata": {},
   "source": [
    "Next, you'll need to load the prompt(s). The prompt(s) are stored as csv. You can use the following script to load it."
   ]
  },
  {
   "cell_type": "code",
   "execution_count": null,
   "id": "11f68998",
   "metadata": {},
   "outputs": [],
   "source": [
    "prompt_fp=\"Resources/prompts.csv\"\n",
    "prompt_df=pd.read_csv(prompt_fp,index_col=0)\n",
    "pids=list(set(prompt_df.index.to_list()))\n",
    "p_strats={}\n",
    "p_strats_info={}\n",
    "for pid in pids:\n",
    "    chat_temp_df=prompt_df.loc[pid]\n",
    "    chat_temp=[]\n",
    "    for i in range(0,chat_temp_df.shape[0]):\n",
    "        item=chat_temp_df.iloc[i]\n",
    "        chat_temp.append({\"role\":item[\"role\"],\"content\":item[\"content\"]})\n",
    "    p_strats[pid]=chat_temp\n",
    "    p_strats_info[pid]=chat_temp_df.iloc[0][\"name\"]"
   ]
  },
  {
   "cell_type": "markdown",
   "id": "86f4c327",
   "metadata": {},
   "source": [
    "The prompts are stored in the dictionary p_strats. You may access prompt via prompt_id(pid). For a full list of pid:prompt strategy, simply check:"
   ]
  },
  {
   "cell_type": "code",
   "execution_count": null,
   "id": "271bbca8",
   "metadata": {},
   "outputs": [],
   "source": [
    "p_strats_info"
   ]
  },
  {
   "cell_type": "markdown",
   "id": "2a7cef00",
   "metadata": {},
   "source": [
    "Select your prompt strategy via prompt id using the folllowing script:"
   ]
  },
  {
   "cell_type": "code",
   "execution_count": null,
   "id": "d6a65205",
   "metadata": {},
   "outputs": [],
   "source": [
    "p_strat=p_strats[pid]"
   ]
  },
  {
   "cell_type": "markdown",
   "id": "7acca09a",
   "metadata": {},
   "source": [
    "After the prompts are loaded, you'll need to load the test text. To load it from our corpus, simply do:"
   ]
  },
  {
   "cell_type": "code",
   "execution_count": null,
   "id": "11115520",
   "metadata": {},
   "outputs": [],
   "source": [
    "ds_fp=\"Corpus/metaphor_dataset.csv\"\n",
    "ds_df=pd.read_csv(ds_fp,index_col=0)"
   ]
  },
  {
   "cell_type": "markdown",
   "id": "ef257ce4",
   "metadata": {},
   "source": [
    "You may input your own test text in the following script. Or, alternatively, you may choose a sample test text from our corpus, for example:"
   ]
  },
  {
   "cell_type": "code",
   "execution_count": null,
   "id": "16394b88",
   "metadata": {},
   "outputs": [],
   "source": [
    "test_text=ds_df.iloc[0][\"plain\"]\n",
    "print(test_text)"
   ]
  },
  {
   "cell_type": "markdown",
   "id": "c3b35778",
   "metadata": {},
   "source": [
    "Next, as the last step required before run, you need to specify a model.\n",
    "\n",
    "The models we used in our paper are:\n",
    "\n",
    "gpt-4.1-mini-2025-04-14\n",
    "\n",
    "gpt-4.1-nano-2025-04-14\n",
    "\n",
    "gpt-4.1-2025-04-14\n",
    "\n",
    "o3-2025-04-16\n",
    "\n",
    "o4-mini-2025-04-16\n",
    "\n",
    "o3-mini-2025-01-31"
   ]
  },
  {
   "cell_type": "code",
   "execution_count": null,
   "id": "23919d0a",
   "metadata": {},
   "outputs": [],
   "source": [
    "modelid=\"gpt-4.1-mini-2025-04-14\""
   ]
  },
  {
   "cell_type": "markdown",
   "id": "a2ce33c0",
   "metadata": {},
   "source": [
    "Pack the chat of the sample text under prompt strategy, send chat to model for inferring, and retrieve result."
   ]
  },
  {
   "cell_type": "code",
   "execution_count": null,
   "id": "53e93560",
   "metadata": {},
   "outputs": [],
   "source": [
    "ct=copy.deepcopy(p_strat)\n",
    "\n",
    "ct[-1][\"content\"]=ct[-1][\"content\"].replace(\"[#TEST_TEXT]\",test_text)\n",
    "\n",
    "cr=client.chat.completions.create(model=modelid,messages=ct,n=1)# choose n>1 when you need to batch testing.\n",
    "\n",
    "rs=cr.choices[0].message.content"
   ]
  },
  {
   "cell_type": "markdown",
   "id": "0a1982e7",
   "metadata": {},
   "source": [
    "View the result."
   ]
  },
  {
   "cell_type": "code",
   "execution_count": null,
   "id": "53c7fdfb",
   "metadata": {},
   "outputs": [],
   "source": [
    "print(rs)"
   ]
  }
 ],
 "metadata": {
  "kernelspec": {
   "display_name": "alpha",
   "language": "python",
   "name": "python3"
  },
  "language_info": {
   "codemirror_mode": {
    "name": "ipython",
    "version": 3
   },
   "file_extension": ".py",
   "mimetype": "text/x-python",
   "name": "python",
   "nbconvert_exporter": "python",
   "pygments_lexer": "ipython3",
   "version": "3.12.9"
  }
 },
 "nbformat": 4,
 "nbformat_minor": 5
}
