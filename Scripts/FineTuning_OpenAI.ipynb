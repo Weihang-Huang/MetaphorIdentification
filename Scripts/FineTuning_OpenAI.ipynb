{
 "cells": [
  {
   "cell_type": "markdown",
   "id": "d1d7071e",
   "metadata": {},
   "source": [
    "# Fine-Tuning Model From OpenAI For Metaphor Identification\n",
    "\n",
    "This notebook shows the steps of fine-tuningg model from OpenAI for metaphor identification. \n",
    "\n",
    "This includes model fine-tuning, and the inferring using the fine-tuned model.\n",
    "\n",
    "Before start fine-tuning, you need the following packages: openai, pandas"
   ]
  },
  {
   "cell_type": "code",
   "execution_count": null,
   "id": "e7044a36",
   "metadata": {},
   "outputs": [],
   "source": [
    "!pip install pandas openai"
   ]
  },
  {
   "cell_type": "markdown",
   "id": "30d5aacd",
   "metadata": {},
   "source": [
    "Import packages"
   ]
  },
  {
   "cell_type": "code",
   "execution_count": 2,
   "id": "777f4f7e",
   "metadata": {},
   "outputs": [],
   "source": [
    "import pandas as pd\n",
    "from openai import OpenAI\n",
    "import copy,json"
   ]
  },
  {
   "cell_type": "markdown",
   "id": "49b3983b",
   "metadata": {},
   "source": [
    "Connect to openai server using your API key."
   ]
  },
  {
   "cell_type": "code",
   "execution_count": null,
   "id": "6c201fea",
   "metadata": {},
   "outputs": [],
   "source": [
    "my_api_key=\"INSERT YOUR KEY HERE\"\n",
    "client=OpenAI(api_key=my_api_key)"
   ]
  },
  {
   "cell_type": "markdown",
   "id": "dde67b6c",
   "metadata": {},
   "source": [
    "Before moving into fine-tuning, you'll need to load the dataset."
   ]
  },
  {
   "cell_type": "code",
   "execution_count": 3,
   "id": "9981b0de",
   "metadata": {},
   "outputs": [],
   "source": [
    "data_fp=\"data/metaphor_dataset.csv\"\n",
    "data_df=pd.read_csv(data_fp)"
   ]
  },
  {
   "cell_type": "markdown",
   "id": "01d8c945",
   "metadata": {},
   "source": [
    "And then, perform the train-test split.\n",
    "\n",
    "This would split the dataset into two independent parts: train set and test set.\n",
    "\n",
    "The train set will be exposed to the model in fine-tuning, which would make the model \"learn\" the traits of metaphor.\n",
    "\n",
    "The test set will remain unexposed to the model during fine-tuning. It will be reserved for evaluation on the performance of model.\n",
    "\n",
    "Here, we use a typical train-test split ratio of 8:2, and to maximize replicability, you may also wish to set a random seed(here seed =1)."
   ]
  },
  {
   "cell_type": "code",
   "execution_count": 4,
   "id": "c5694597",
   "metadata": {},
   "outputs": [],
   "source": [
    "seed=1\n",
    "train_ratio=0.8"
   ]
  },
  {
   "cell_type": "code",
   "execution_count": 5,
   "id": "8df46e49",
   "metadata": {},
   "outputs": [],
   "source": [
    "train_df=data_df.sample(frac=train_ratio,random_state=seed)\n",
    "test_df=data_df.drop(index=train_df.index)"
   ]
  },
  {
   "cell_type": "markdown",
   "id": "9848de56",
   "metadata": {},
   "source": [
    "With the train-test split completed, we'll need to compile the chat and uploaded it to the openai server so it can be used for the fine-tuning in the next step.\n",
    "\n",
    "Please note: the fileid will be used as input when create fine-tuning task in the next step."
   ]
  },
  {
   "cell_type": "code",
   "execution_count": null,
   "id": "657eb3e1",
   "metadata": {},
   "outputs": [],
   "source": [
    "jsonl_path=f\"data/ft_tr{train_ratio}_s{seed}.jsonl\"\n",
    "\n",
    "user_msg_0=\"Can you please identify and tag the metaphors in the following text? \"\n",
    "\n",
    "idx=0\n",
    "json_lines=[]\n",
    "for idx in range(0,train_df.shape[0]):\n",
    "    \n",
    "    raw_text=train_df.iloc[idx][\"plain\"].replace(\"\\n\",\" \")\n",
    "    this_chat={\n",
    "        \"messages\":[\n",
    "            {\"role\":\"user\",\"content\":user_msg_0+\"\\n\"+raw_text},\n",
    "            {\"role\":\"assistant\",\"content\":text},\n",
    "        ]\n",
    "    }\n",
    "    json_str=json.dumps(this_chat)\n",
    "    json_lines.append(json_str)\n",
    "\n",
    "with open(jsonl_path,\"w\",-1) as f:\n",
    "    f.write(\"\\n\".join(json_lines))\n",
    "\n",
    "fileinfo=client.files.create(file=open(jsonl_path, \"rb\"),purpose=\"fine-tune\")\n",
    "print(fileinfo.id)"
   ]
  },
  {
   "cell_type": "markdown",
   "id": "728dc7e7",
   "metadata": {},
   "source": [
    "Select a model and create fine-tuning task using the dataset you just uploaded.\n",
    "\n",
    "Here is a list of models that we tested for fine-tuning in our study.\n",
    "\n",
    "gpt-4.1-2025-04-14\n",
    "\n",
    "gpt-4.1-mini-2025-04-14\n",
    "\n",
    "gpt-4.1-nano-2025-04-14"
   ]
  },
  {
   "cell_type": "code",
   "execution_count": null,
   "id": "a2b1b6e0",
   "metadata": {},
   "outputs": [],
   "source": [
    "model=\"gpt-4.1-mini-2025-04-14\"\n",
    "client.fine_tuning.jobs.create(\n",
    "    training_file=fileinfo.id,\n",
    "    suffix=model.replace(\"-\",\"_\")+f\"__tr{train_ratio}__s{seed}\",\n",
    "    model=model,\n",
    "    )"
   ]
  },
  {
   "cell_type": "markdown",
   "id": "462b0e76",
   "metadata": {},
   "source": [
    "After the fine-tuning is completed, you will get a new modelid that correspond to the fine-tuned model. We will use this new modelid in the inferring.\n",
    "\n",
    "To check this new modelid, and to check the fine-tuning progress, simply do:"
   ]
  },
  {
   "cell_type": "code",
   "execution_count": null,
   "id": "3562aa6f",
   "metadata": {},
   "outputs": [],
   "source": [
    "client.fine_tuning.jobs.list().data"
   ]
  },
  {
   "cell_type": "markdown",
   "id": "3d779610",
   "metadata": {},
   "source": [
    "which will return you with a list of tasks. "
   ]
  },
  {
   "cell_type": "markdown",
   "id": "03a4a8bf",
   "metadata": {},
   "source": [
    "In the following steps, we will use the fine-tuned modelid:"
   ]
  },
  {
   "cell_type": "code",
   "execution_count": null,
   "id": "b2cbfc56",
   "metadata": {},
   "outputs": [],
   "source": [
    "modelid=\"ft:gpt-4.1-nano-2025-04-14:university-of-birmingham:gpt-4-1-nano-2025-04-14-tr0-8-s11111:Bx2M81Bq\","
   ]
  },
  {
   "cell_type": "markdown",
   "id": "765e56d5",
   "metadata": {},
   "source": [
    "as example. Please don't forget to replace the above modelid with yours before proceeding to the next block."
   ]
  },
  {
   "cell_type": "markdown",
   "id": "2c645281",
   "metadata": {},
   "source": [
    "Use the fine-tuned model in inferring."
   ]
  },
  {
   "cell_type": "markdown",
   "id": "44154d4c",
   "metadata": {},
   "source": [
    "Input your test text here, or alternatively, fetch one test text in the test set."
   ]
  },
  {
   "cell_type": "code",
   "execution_count": null,
   "id": "b2e9da03",
   "metadata": {},
   "outputs": [],
   "source": [
    "test_text=test_df.iloc[0][\"plain\"]"
   ]
  },
  {
   "cell_type": "markdown",
   "id": "22c5b211",
   "metadata": {},
   "source": [
    "Run inferring."
   ]
  },
  {
   "cell_type": "code",
   "execution_count": null,
   "id": "7bd1bf88",
   "metadata": {},
   "outputs": [],
   "source": [
    "user_msg_0=\"Can you please identify and tag the metaphors in the following text? \"\n",
    "\n",
    "ct=[{\"role\":\"user\",\"content\":user_msg_0+\"\\n\"+test_text}]\n",
    "\n",
    "cr=client.chat.completions.create(model=modelid,messages=ct)\n",
    "\n",
    "rs=cr.choices[0].message.content"
   ]
  },
  {
   "cell_type": "markdown",
   "id": "a8bf0417",
   "metadata": {},
   "source": [
    "View the result."
   ]
  },
  {
   "cell_type": "code",
   "execution_count": null,
   "id": "cf7aa7a0",
   "metadata": {},
   "outputs": [],
   "source": [
    "print(rs)"
   ]
  }
 ],
 "metadata": {
  "kernelspec": {
   "display_name": "alpha",
   "language": "python",
   "name": "python3"
  },
  "language_info": {
   "codemirror_mode": {
    "name": "ipython",
    "version": 3
   },
   "file_extension": ".py",
   "mimetype": "text/x-python",
   "name": "python",
   "nbconvert_exporter": "python",
   "pygments_lexer": "ipython3",
   "version": "3.12.9"
  }
 },
 "nbformat": 4,
 "nbformat_minor": 5
}
