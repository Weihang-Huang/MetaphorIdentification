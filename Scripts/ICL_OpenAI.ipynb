{
 "cells": [
  {
   "cell_type": "markdown",
   "id": "30d1dac5",
   "metadata": {},
   "source": [
    "# Metaphor Identification via In Context Learning with OpenAI Model\n",
    "\n",
    "In this notebook, I will show the workflow of metaphor identification via in context learning(ICL) with OpenAI models.\n",
    "\n",
    "Let's start with the dependencies. To run this notebook, you need the following packages: openai, pandas.\n",
    "\n",
    "Run the following script to install these packages."
   ]
  },
  {
   "cell_type": "code",
   "execution_count": null,
   "id": "8f296c83",
   "metadata": {},
   "outputs": [],
   "source": [
    "!pip install openai pandas"
   ]
  },
  {
   "cell_type": "markdown",
   "id": "5d0597d3",
   "metadata": {},
   "source": [
    "Import packages."
   ]
  },
  {
   "cell_type": "code",
   "execution_count": null,
   "id": "8d04b5ff",
   "metadata": {},
   "outputs": [],
   "source": [
    "import pandas as pd\n",
    "from openai import OpenAI\n",
    "import copy"
   ]
  },
  {
   "cell_type": "markdown",
   "id": "63393050",
   "metadata": {},
   "source": [
    "You will also need to apply for an OpenAI api key to use models from OpenAI. \n",
    "\n",
    "After successful application, you'll need to put your API key here:"
   ]
  },
  {
   "cell_type": "code",
   "execution_count": null,
   "id": "ee0c12ef",
   "metadata": {},
   "outputs": [],
   "source": [
    "my_api_key=\"INSERT YOUR KEY HERE\""
   ]
  },
  {
   "cell_type": "markdown",
   "id": "d8e4abac",
   "metadata": {},
   "source": [
    "With API key, you can connect to the openai server via the following script:"
   ]
  },
  {
   "cell_type": "code",
   "execution_count": null,
   "id": "1ec84851",
   "metadata": {},
   "outputs": [],
   "source": [
    "client=OpenAI(api_key=my_api_key)"
   ]
  },
  {
   "cell_type": "markdown",
   "id": "c845f66d",
   "metadata": {},
   "source": [
    "Next, you'll need to load the prompt(s). The prompt(s) are stored as csv. You can use the following script to load it."
   ]
  },
  {
   "cell_type": "code",
   "execution_count": 3,
   "id": "11f68998",
   "metadata": {},
   "outputs": [],
   "source": [
    "prompt_fp=\"prompt/prompt_sample.csv\"\n",
    "prompt_df=pd.read_csv(prompt_fp,index_col=0)\n",
    "pids=list(set(prompt_df.index.to_list()))\n",
    "p_strats={}\n",
    "p_strats_info={}\n",
    "for pid in pids:\n",
    "    chat_temp_df=prompt_df.loc[pid]\n",
    "    chat_temp=[]\n",
    "    for i in range(0,chat_temp_df.shape[0]):\n",
    "        item=chat_temp_df.iloc[i]\n",
    "        chat_temp.append({\"role\":item[\"role\"],\"content\":item[\"content\"]})\n",
    "    p_strats[pid]=chat_temp\n",
    "    p_strats_info[pid]=chat_temp_df.iloc[0][\"name\"]"
   ]
  },
  {
   "cell_type": "markdown",
   "id": "86f4c327",
   "metadata": {},
   "source": [
    "The prompts are stored in the dictionary p_strats. You may access prompt via prompt_id(pid). For a full list of pid:prompt strategy, simply check:"
   ]
  },
  {
   "cell_type": "code",
   "execution_count": 4,
   "id": "271bbca8",
   "metadata": {},
   "outputs": [
    {
     "data": {
      "text/plain": [
       "{100: 'V2a. Chain-of-thought, 4 shots, Original conventional vs creative ratio',\n",
       " 101: 'V2b. Chain-of-thought, 4 shots, Even conventional vs creative ratio',\n",
       " 102: 'V2c. Chain-of-thought, 8 shots, Original conventional vs creative ratio',\n",
       " 103: 'V2d. Chain-of-thought, 8 shots, Even conventional vs creative ratio',\n",
       " 104: 'V6a. Chain-of-thought, 4 shots, Original conventional vs creative ratio',\n",
       " 105: 'V6b. Chain-of-thought, 4 shots, Even conventional vs creative ratio',\n",
       " 106: 'V6c. Chain-of-thought, 8 shots, Original conventional vs creative ratio',\n",
       " 107: 'V6d. Chain-of-thought, 8 shots, Even conventional vs creative ratio',\n",
       " 108: 'V7a. Chain-of-thought, 4 shots, Original conventional vs creative ratio',\n",
       " 109: 'V7b. Chain-of-thought, 4 shots, Even conventional vs creative ratio',\n",
       " 110: 'V7c. Chain-of-thought, 8 shots, Original conventional vs creative ratio',\n",
       " 111: 'V7d. Chain-of-thought, 8 shots, Even conventional vs creative ratio'}"
      ]
     },
     "execution_count": 4,
     "metadata": {},
     "output_type": "execute_result"
    }
   ],
   "source": [
    "p_strats_info"
   ]
  },
  {
   "cell_type": "markdown",
   "id": "2a7cef00",
   "metadata": {},
   "source": [
    "Select your prompt strategy via prompt id using the folllowing script:"
   ]
  },
  {
   "cell_type": "code",
   "execution_count": 6,
   "id": "d6a65205",
   "metadata": {},
   "outputs": [],
   "source": [
    "p_strat=p_strats[pid]"
   ]
  },
  {
   "cell_type": "markdown",
   "id": "7acca09a",
   "metadata": {},
   "source": [
    "After the prompts are loaded, you'll need to load the test text. To load it from our corpus, simply do:"
   ]
  },
  {
   "cell_type": "code",
   "execution_count": 9,
   "id": "11115520",
   "metadata": {},
   "outputs": [],
   "source": [
    "ds_fp=\"data/metaphor_dataset.csv\"\n",
    "ds_df=pd.read_csv(ds_fp,index_col=0)"
   ]
  },
  {
   "cell_type": "markdown",
   "id": "ef257ce4",
   "metadata": {},
   "source": [
    "You may input your own test text in the following script. Or, alternatively, you may choose a sample test text from our corpus, for example:"
   ]
  },
  {
   "cell_type": "code",
   "execution_count": 13,
   "id": "16394b88",
   "metadata": {},
   "outputs": [
    {
     "name": "stdout",
     "output_type": "stream",
     "text": [
      " \" something is fishy in the state of universal . \" \n",
      "\n",
      "about ten years back , with the unexpected success of mad max and the road warrior , post-apocalypse nitty-gritty survival yarns became popular at the movies . \n",
      "\n",
      "we've always had movies of this nature ; on the beach , the end of the world , damnation alley , the ultimate warrior , and so on . \n",
      "\n",
      "to date , the most smoothly done were straightforward \" haircuts \" of the classic western plot , like the lone gunman who comes to town and protects the widow and the son against an evil organization , usually one in possession of some critical resource , like water , feed range , or a mining claim . \n",
      "\n",
      "most of these grew out of venerable , but solid hero yarns like the virginian and shane . \n",
      "\n",
      " ( my personal favorite is a patrick swayze movie called steel dawn , which was fairly well made on a small budget . ) \n",
      "\n",
      "now we have waterworld , which again brings the traditional lone gunman to town to rescue the young widow and her daughter . \n",
      "\n",
      " ( well , she's not a widow , and the kid isn't her daughter , but you get the idea . ) \n",
      "\n",
      "the lady is helen , played by the stunning jean tripplehorn , who isn't given a chance to be stunning , or even interesting , by the mediocre and unimaginative script . \n",
      "\n",
      "the child enola , played by tina majorino , is living proof that a child actor need not be a bad thing to have in a movie ; she outshines her material all the way through . \n",
      "\n",
      "in simple , the scene is earth , hundreds of years from now . \n",
      "\n",
      "the polar ice caps have melted , and somehow produced enough water to inundate the entire planet . \n",
      "\n",
      "the few remaining people live in boats and floating colonies , and survive by trade , theft , or piracy . \n",
      "\n",
      "somehow an oil tanker has survived the centuries , and its inhabitants , called \" smokers , \" are able to keep gasoline engines running despite the dearth of replacement parts and raw materials , so the bad guys have outboard engines , and fast-moving boats , airplanes , and jet skis . \n",
      "\n",
      "enola , found at sea as a young girl , has a mysterious map no one can read tattooed on her back . \n",
      "\n",
      "we suspect early on that it is the way to the mythical \" dryland , \" the place where trees , crops , and animals grow , and what plot there is hinges on who has enola . \n",
      "\n",
      "the psycho ruler of the smokers , the \" deacon , \" is trying to get her and find his way to dryland . \n",
      "\n",
      "played with typical self-lampooning , rug-chewing histrionics by dennis hopper , \" deacon \" is the only thing in the movie that's close to amusing . \n",
      "\n",
      "his performance is * almost * laughable , but there just isn't enough there to be funny . \n",
      "\n",
      "the star ( and a co-producer ) is kevin costner . \n",
      "\n",
      "he's playing an un-named lone denizen of the sea , a man called the \" mariner , \" who turns out to be a gilled , water-breathing mutant with webbed feet . \n",
      "\n",
      "very little is done with this . \n",
      "\n",
      "the script ignores the ineffectuality of gills in supplying enough oxygen to support a human metabolism ; it ignores the fact that even with both ice caps completely melted , much of the earth's surface would still be above water ; and it ignores the blatant impossibility of the cultures and technology shown . \n",
      "\n",
      " ( canned meat does * not * last for centuries ; ammunition does * not * fire after it's more than a few decades old ; and so on , and so on . . . ) \n",
      "\n",
      "i'm quite fond of tina majorino's previous work , very impressed by jean tripplehorn's past accomplishments , and still speechless over costner's dances with wolves . \n",
      "\n",
      "but this movie could destroy the careers of anyone associated with it ! \n",
      "\n",
      "this movie cost one hundred and eighty-two million dollars , and there's * nothing * in it we haven't seen before , done better on only a few percent of the cost of this turkey . \n",
      "\n",
      "at 125 minutes of material , this movie cost over one point four million dollars per minute to make . \n",
      "\n",
      "the budget of this movie * could * have given us over thirty movies ; it could have paid for six years of a prime-time sf tv series with expensive fx work , or ten years of an sf tv series with good digital fx . \n",
      "\n",
      "in sum , this movie is beneath contempt . \n",
      "\n",
      "it has nothing new to offer , it has a script that could easily have been bettered by the people who write comic books for dc , and it spent more money than the national budget of a small nation . \n",
      "\n",
      "if you * have * to go see it , see it on a four-dollar matinee . \n",
      "\n",
      "otherwise you'll find yourself sneering at you every time you pass a reflective surface , for weeks . \n",
      "\n",
      "\n"
     ]
    }
   ],
   "source": [
    "test_text=ds_df.iloc[0][\"plain\"]\n",
    "print(test_text)"
   ]
  },
  {
   "cell_type": "markdown",
   "id": "c3b35778",
   "metadata": {},
   "source": [
    "Next, as the last step required before run, you need to specify a model.\n",
    "\n",
    "The models we used in our paper are:\n",
    "\n",
    "gpt-4.1-mini-2025-04-14\n",
    "\n",
    "gpt-4.1-nano-2025-04-14\n",
    "\n",
    "gpt-4.1-2025-04-14\n",
    "\n",
    "o3-2025-04-16\n",
    "\n",
    "o4-mini-2025-04-16\n",
    "\n",
    "o3-mini-2025-01-31"
   ]
  },
  {
   "cell_type": "code",
   "execution_count": null,
   "id": "23919d0a",
   "metadata": {},
   "outputs": [],
   "source": [
    "modelid=\"gpt-4.1-mini-2025-04-14\""
   ]
  },
  {
   "cell_type": "markdown",
   "id": "a2ce33c0",
   "metadata": {},
   "source": [
    "Pack the chat of the sample text under prompt strategy, send chat to model for inferring, and retrieve result."
   ]
  },
  {
   "cell_type": "code",
   "execution_count": null,
   "id": "53e93560",
   "metadata": {},
   "outputs": [],
   "source": [
    "ct=copy.deepcopy(p_strat)\n",
    "\n",
    "ct[-1][\"content\"]=ct[-1][\"content\"].replace(\"[#TEST_TEXT]\",test_text)\n",
    "\n",
    "cr=client.chat.completions.create(model=modelid,messages=ct,n=1)# choose n>1 when you need to batch testing.\n",
    "\n",
    "rs=cr.choices[0].message.content"
   ]
  },
  {
   "cell_type": "markdown",
   "id": "0a1982e7",
   "metadata": {},
   "source": [
    "View the result."
   ]
  },
  {
   "cell_type": "code",
   "execution_count": null,
   "id": "53c7fdfb",
   "metadata": {},
   "outputs": [],
   "source": [
    "print(rs)"
   ]
  }
 ],
 "metadata": {
  "kernelspec": {
   "display_name": "alpha",
   "language": "python",
   "name": "python3"
  },
  "language_info": {
   "codemirror_mode": {
    "name": "ipython",
    "version": 3
   },
   "file_extension": ".py",
   "mimetype": "text/x-python",
   "name": "python",
   "nbconvert_exporter": "python",
   "pygments_lexer": "ipython3",
   "version": "3.12.9"
  }
 },
 "nbformat": 4,
 "nbformat_minor": 5
}
