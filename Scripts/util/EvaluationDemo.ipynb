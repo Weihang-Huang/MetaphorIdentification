{
 "cells": [
  {
   "cell_type": "markdown",
   "id": "0cf075a3",
   "metadata": {},
   "source": [
    "# Evaluation Demo\n",
    "This notebook demonstrates how `do_praf` computes token-level metrics for XML-tagged text with a single tag type `<Metaphor>`."
   ]
  },
  {
   "cell_type": "markdown",
   "id": "f184fa71",
   "metadata": {},
   "source": [
    "## Example inputs\n",
    "**Gold (`xml_true`)** marks two metaphor spans: `roller coaster` and `bloodbath`.\n",
    "\n",
    "**Prediction (`xml_pred`)** slightly differs:\n",
    "- First span is *under-tagged* (only `roller`).\n",
    "- Second span is *over-tagged* (includes an extra token `total`)."
   ]
  },
  {
   "cell_type": "code",
   "execution_count": 1,
   "id": "e66bf6ff",
   "metadata": {},
   "outputs": [
    {
     "name": "stdout",
     "output_type": "stream",
     "text": [
      "xml_true:\n",
      " The market was a <Metaphor> roller coaster </Metaphor> yesterday , and many called it a <Metaphor> bloodbath </Metaphor> .\n",
      "\n",
      "xml_pred:\n",
      " The market was a <Metaphor> roller </Metaphor> coaster yesterday , and many called it a <Metaphor> total bloodbath </Metaphor> .\n"
     ]
    }
   ],
   "source": [
    "\n",
    "xml_true = \"The market was a <Metaphor> roller coaster </Metaphor> yesterday , and many called it a <Metaphor> bloodbath </Metaphor> .\"\n",
    "xml_pred = \"The market was a <Metaphor> roller </Metaphor> coaster yesterday , and many called it a <Metaphor> total bloodbath </Metaphor> .\"\n",
    "print(\"xml_true:\\n\", xml_true)\n",
    "print(\"\\nxml_pred:\\n\", xml_pred)\n"
   ]
  },
  {
   "cell_type": "markdown",
   "id": "077f9bd8",
   "metadata": {},
   "source": [
    "To run PRAF evaluation, simply call the do_praf in the evaluation.py"
   ]
  },
  {
   "cell_type": "code",
   "execution_count": 2,
   "id": "5086b81a",
   "metadata": {},
   "outputs": [
    {
     "data": {
      "text/plain": [
       "(0.7948717948717949,\n",
       " 0.7948717948717949,\n",
       " 0.875,\n",
       " 0.7948717948717949,\n",
       " array([[12,  1],\n",
       "        [ 1,  2]], dtype=int64))"
      ]
     },
     "execution_count": 2,
     "metadata": {},
     "output_type": "execute_result"
    }
   ],
   "source": [
    "from evaluation import *\n",
    "results = do_praf(xml_true, xml_pred, \"Metaphor\")\n",
    "results[\"precision\"], results[\"recall\"], results[\"accuracy\"], results[\"f1\"], results[\"confusion_matrix\"]\n"
   ]
  }
 ],
 "metadata": {
  "kernelspec": {
   "display_name": "alpha",
   "language": "python",
   "name": "python3"
  },
  "language_info": {
   "codemirror_mode": {
    "name": "ipython",
    "version": 3
   },
   "file_extension": ".py",
   "mimetype": "text/x-python",
   "name": "python",
   "nbconvert_exporter": "python",
   "pygments_lexer": "ipython3",
   "version": "3.12.9"
  }
 },
 "nbformat": 4,
 "nbformat_minor": 5
}
